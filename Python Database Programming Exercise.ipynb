{
 "cells": [
  {
   "cell_type": "markdown",
   "id": "7f25b9cf",
   "metadata": {},
   "source": [
    "#### Exercise 1: Connect to your database server and print its version"
   ]
  },
  {
   "cell_type": "code",
   "execution_count": 2,
   "id": "8c2a548a",
   "metadata": {},
   "outputs": [
    {
     "name": "stdout",
     "output_type": "stream",
     "text": [
      "Connection successful.\n",
      "Database version: [('3.39.3',)]\n"
     ]
    }
   ],
   "source": [
    "import sqlite3\n",
    "import pandas as pd\n",
    "\n",
    "# Connection to database and sqlite version\n",
    "try:\n",
    "    sqliteconnect = sqlite3.connect('Hospitalinfo.db')\n",
    "    cursor = sqliteconnect.cursor()\n",
    "    print(\"Connection successful.\")\n",
    "    \n",
    "    sqlite_select_query = 'select sqlite_version();'\n",
    "    cursor.execute(sqlite_select_query)\n",
    "    record = cursor.fetchall()\n",
    "    print(\"Database version:\", record)\n",
    "\n",
    "except sqlite3.Error as error:\n",
    "    print(\"Error occurred while connecting to sqlite\", error)"
   ]
  },
  {
   "cell_type": "markdown",
   "id": "61f3d1c8",
   "metadata": {},
   "source": [
    "#### Exercise 2: Fetch Hospital and Doctor Information using hospital Id and doctor Id\n"
   ]
  },
  {
   "cell_type": "code",
   "execution_count": 5,
   "id": "dd1000b5",
   "metadata": {},
   "outputs": [
    {
     "ename": "OperationalError",
     "evalue": "table \"Doctor\" already exists",
     "output_type": "error",
     "traceback": [
      "\u001b[1;31m---------------------------------------------------------------------------\u001b[0m",
      "\u001b[1;31mOperationalError\u001b[0m                          Traceback (most recent call last)",
      "\u001b[1;32m~\\AppData\\Local\\Temp\\ipykernel_6472\\1374763209.py\u001b[0m in \u001b[0;36m<module>\u001b[1;34m\u001b[0m\n\u001b[0;32m     10\u001b[0m     \u001b[0mPRIMARY\u001b[0m \u001b[0mKEY\u001b[0m\u001b[1;33m(\u001b[0m\u001b[1;34m\"DocID\"\u001b[0m\u001b[1;33m)\u001b[0m\u001b[1;33m\u001b[0m\u001b[1;33m\u001b[0m\u001b[0m\n\u001b[0;32m     11\u001b[0m );'''\n\u001b[1;32m---> 12\u001b[1;33m \u001b[0mcursor\u001b[0m\u001b[1;33m.\u001b[0m\u001b[0mexecute\u001b[0m\u001b[1;33m(\u001b[0m\u001b[0msqlite_create_table_query\u001b[0m\u001b[1;33m)\u001b[0m\u001b[1;33m\u001b[0m\u001b[1;33m\u001b[0m\u001b[0m\n\u001b[0m\u001b[0;32m     13\u001b[0m \u001b[1;33m\u001b[0m\u001b[0m\n\u001b[0;32m     14\u001b[0m \u001b[1;31m#Populating data into the Doctor table\u001b[0m\u001b[1;33m\u001b[0m\u001b[1;33m\u001b[0m\u001b[0m\n",
      "\u001b[1;31mOperationalError\u001b[0m: table \"Doctor\" already exists"
     ]
    }
   ],
   "source": [
    "# Creation of Doctor table\n",
    "sqlite_create_table_query = '''CREATE TABLE \"Doctor\" (\n",
    "    \"DocID\" INTEGER,\n",
    "    \"DocName\" TEXT,\n",
    "    \"HospitalID\" INTEGER,\n",
    "    \"JoiningDate\" BLOB,\n",
    "    \"Specialty\" TEXT,\n",
    "    \"Exp\" TEXT,\n",
    "    \"salary\" real,\n",
    "    PRIMARY KEY(\"DocID\")\n",
    ");'''\n",
    "cursor.execute(sqlite_create_table_query)\n",
    "\n",
    "#Populating data into the Doctor table\n",
    "\n",
    "doc_data = [(101, 'David', 1, '2005-02-10', 'Pediatric', 40000),\n",
    "(102, 'Michael', 1, '2018-07-23', 'Oncologist', 20000),\n",
    "(103, 'Susan', 2, '2016-05-19', 'Garnacologist', 25000),\n",
    "(104, 'Robert', 2, '2017-12-28', 'Pediatric', 28000),\n",
    "(105, 'Linda', 3, '2004-06-04', 'Garnacologist', 42000),\n",
    "(106, 'William', 3, '2012-09-11', 'Dermatologist', 30000),\n",
    "(107, 'Richard', 4, '2014-08-21', 'Garnacologist', 32000),\n",
    "(108, 'Karen', 4, '2011-10-17', 'Radiologist', 30000)]\n",
    "\n",
    "cursor.executemany('''INSERT into Doctor (DocID, DocName, HospitalID, JoiningDate, Specialty, Exp, salary) \n",
    "VALUES (?, ?, ?, ?, ?, NULL, ?)''', doc_data)\n",
    "cursor.fetchall()"
   ]
  },
  {
   "cell_type": "code",
   "execution_count": 6,
   "id": "208f883d",
   "metadata": {},
   "outputs": [
    {
     "data": {
      "text/html": [
       "<div>\n",
       "<style scoped>\n",
       "    .dataframe tbody tr th:only-of-type {\n",
       "        vertical-align: middle;\n",
       "    }\n",
       "\n",
       "    .dataframe tbody tr th {\n",
       "        vertical-align: top;\n",
       "    }\n",
       "\n",
       "    .dataframe thead th {\n",
       "        text-align: right;\n",
       "    }\n",
       "</style>\n",
       "<table border=\"1\" class=\"dataframe\">\n",
       "  <thead>\n",
       "    <tr style=\"text-align: right;\">\n",
       "      <th></th>\n",
       "      <th>DocID</th>\n",
       "      <th>DocName</th>\n",
       "      <th>HospitalID</th>\n",
       "      <th>JoiningDate</th>\n",
       "      <th>Specialty</th>\n",
       "      <th>Exp</th>\n",
       "      <th>salary</th>\n",
       "    </tr>\n",
       "  </thead>\n",
       "  <tbody>\n",
       "    <tr>\n",
       "      <th>0</th>\n",
       "      <td>101</td>\n",
       "      <td>David</td>\n",
       "      <td>1</td>\n",
       "      <td>2005-02-10</td>\n",
       "      <td>Pediatric</td>\n",
       "      <td>None</td>\n",
       "      <td>40000.0</td>\n",
       "    </tr>\n",
       "    <tr>\n",
       "      <th>1</th>\n",
       "      <td>102</td>\n",
       "      <td>Michael</td>\n",
       "      <td>1</td>\n",
       "      <td>2018-07-23</td>\n",
       "      <td>Oncologist</td>\n",
       "      <td>None</td>\n",
       "      <td>20000.0</td>\n",
       "    </tr>\n",
       "    <tr>\n",
       "      <th>2</th>\n",
       "      <td>103</td>\n",
       "      <td>Susan</td>\n",
       "      <td>2</td>\n",
       "      <td>2016-05-19</td>\n",
       "      <td>Garnacologist</td>\n",
       "      <td>None</td>\n",
       "      <td>25000.0</td>\n",
       "    </tr>\n",
       "    <tr>\n",
       "      <th>3</th>\n",
       "      <td>104</td>\n",
       "      <td>Robert</td>\n",
       "      <td>2</td>\n",
       "      <td>2017-12-28</td>\n",
       "      <td>Pediatric</td>\n",
       "      <td>None</td>\n",
       "      <td>28000.0</td>\n",
       "    </tr>\n",
       "    <tr>\n",
       "      <th>4</th>\n",
       "      <td>105</td>\n",
       "      <td>Linda</td>\n",
       "      <td>3</td>\n",
       "      <td>2004-06-04</td>\n",
       "      <td>Garnacologist</td>\n",
       "      <td>None</td>\n",
       "      <td>42000.0</td>\n",
       "    </tr>\n",
       "    <tr>\n",
       "      <th>5</th>\n",
       "      <td>106</td>\n",
       "      <td>William</td>\n",
       "      <td>3</td>\n",
       "      <td>2012-09-11</td>\n",
       "      <td>Dermatologist</td>\n",
       "      <td>None</td>\n",
       "      <td>30000.0</td>\n",
       "    </tr>\n",
       "    <tr>\n",
       "      <th>6</th>\n",
       "      <td>107</td>\n",
       "      <td>Richard</td>\n",
       "      <td>4</td>\n",
       "      <td>2014-08-21</td>\n",
       "      <td>Garnacologist</td>\n",
       "      <td>None</td>\n",
       "      <td>32000.0</td>\n",
       "    </tr>\n",
       "    <tr>\n",
       "      <th>7</th>\n",
       "      <td>108</td>\n",
       "      <td>Karen</td>\n",
       "      <td>4</td>\n",
       "      <td>2011-10-17</td>\n",
       "      <td>Radiologist</td>\n",
       "      <td>None</td>\n",
       "      <td>30000.0</td>\n",
       "    </tr>\n",
       "  </tbody>\n",
       "</table>\n",
       "</div>"
      ],
      "text/plain": [
       "   DocID  DocName  HospitalID JoiningDate      Specialty   Exp   salary\n",
       "0    101    David           1  2005-02-10      Pediatric  None  40000.0\n",
       "1    102  Michael           1  2018-07-23     Oncologist  None  20000.0\n",
       "2    103    Susan           2  2016-05-19  Garnacologist  None  25000.0\n",
       "3    104   Robert           2  2017-12-28      Pediatric  None  28000.0\n",
       "4    105    Linda           3  2004-06-04  Garnacologist  None  42000.0\n",
       "5    106  William           3  2012-09-11  Dermatologist  None  30000.0\n",
       "6    107  Richard           4  2014-08-21  Garnacologist  None  32000.0\n",
       "7    108    Karen           4  2011-10-17    Radiologist  None  30000.0"
      ]
     },
     "metadata": {},
     "output_type": "display_data"
    }
   ],
   "source": [
    "#Creating a dataframe from the SQL Doctor table\n",
    "\n",
    "cursor.execute('''SELECT * FROM Doctor;''')\n",
    "data = cursor.fetchall()\n",
    "doctor_t = pd.DataFrame(data)\n",
    "doctor_t.columns = [description[0] for description in cursor.description]\n",
    "display(doctor_t)"
   ]
  },
  {
   "cell_type": "code",
   "execution_count": 7,
   "id": "b0dc7356",
   "metadata": {},
   "outputs": [
    {
     "data": {
      "text/plain": [
       "<sqlite3.Cursor at 0x15ec13b7c70>"
      ]
     },
     "execution_count": 7,
     "metadata": {},
     "output_type": "execute_result"
    }
   ],
   "source": [
    "# Creation of Hospital table\n",
    "cursor.execute('''CREATE TABLE \"Hospital\" (\n",
    "    \"ID\" INTEGER,\n",
    "    \"Name\" TEXT,\n",
    "    \"BedCount\" INTEGER,\n",
    "    PRIMARY KEY(\"ID\")\n",
    ");''')\n",
    "\n",
    "# Populating the Hospital table with data using executemany\n",
    "hosp_data = [(1, 'Mayo Clinic', 200),\n",
    "(2, 'Cleveland Clinic', 400),\n",
    "(3, 'John Hopkins', 1000),\n",
    "(4, 'UCLA Medical Center', 1500)]\n",
    "\n",
    "cursor.executemany('''INSERT into Hospital (ID, Name, Bedcount) \n",
    "VALUES(?, ?, ?);''', hosp_data)"
   ]
  },
  {
   "cell_type": "code",
   "execution_count": 8,
   "id": "a97b48c7",
   "metadata": {},
   "outputs": [
    {
     "data": {
      "text/html": [
       "<div>\n",
       "<style scoped>\n",
       "    .dataframe tbody tr th:only-of-type {\n",
       "        vertical-align: middle;\n",
       "    }\n",
       "\n",
       "    .dataframe tbody tr th {\n",
       "        vertical-align: top;\n",
       "    }\n",
       "\n",
       "    .dataframe thead th {\n",
       "        text-align: right;\n",
       "    }\n",
       "</style>\n",
       "<table border=\"1\" class=\"dataframe\">\n",
       "  <thead>\n",
       "    <tr style=\"text-align: right;\">\n",
       "      <th></th>\n",
       "      <th>ID</th>\n",
       "      <th>Name</th>\n",
       "      <th>BedCount</th>\n",
       "    </tr>\n",
       "  </thead>\n",
       "  <tbody>\n",
       "    <tr>\n",
       "      <th>0</th>\n",
       "      <td>1</td>\n",
       "      <td>Mayo Clinic</td>\n",
       "      <td>200</td>\n",
       "    </tr>\n",
       "    <tr>\n",
       "      <th>1</th>\n",
       "      <td>2</td>\n",
       "      <td>Cleveland Clinic</td>\n",
       "      <td>400</td>\n",
       "    </tr>\n",
       "    <tr>\n",
       "      <th>2</th>\n",
       "      <td>3</td>\n",
       "      <td>John Hopkins</td>\n",
       "      <td>1000</td>\n",
       "    </tr>\n",
       "    <tr>\n",
       "      <th>3</th>\n",
       "      <td>4</td>\n",
       "      <td>UCLA Medical Center</td>\n",
       "      <td>1500</td>\n",
       "    </tr>\n",
       "  </tbody>\n",
       "</table>\n",
       "</div>"
      ],
      "text/plain": [
       "   ID                 Name  BedCount\n",
       "0   1          Mayo Clinic       200\n",
       "1   2     Cleveland Clinic       400\n",
       "2   3         John Hopkins      1000\n",
       "3   4  UCLA Medical Center      1500"
      ]
     },
     "metadata": {},
     "output_type": "display_data"
    }
   ],
   "source": [
    "#Creating a dataframe from the SQL Hospital table\n",
    "cursor.execute('''SELECT * FROM Hospital;''')\n",
    "hospital_t = pd.DataFrame(cursor.fetchall())\n",
    "hospital_t.columns = [description[0] for description in cursor.description]\n",
    "display(hospital_t)"
   ]
  },
  {
   "cell_type": "markdown",
   "id": "5e4b945c",
   "metadata": {},
   "source": [
    "#### Exercise 3: Get the list Of doctors as per the given specialty and salary\n"
   ]
  },
  {
   "cell_type": "code",
   "execution_count": 10,
   "id": "54cf98d4",
   "metadata": {},
   "outputs": [
    {
     "data": {
      "text/plain": [
       "[('Linda', 'Garnacologist', 42000.0),\n",
       " ('David', 'Pediatric', 40000.0),\n",
       " ('Richard', 'Garnacologist', 32000.0),\n",
       " ('William', 'Dermatologist', 30000.0),\n",
       " ('Karen', 'Radiologist', 30000.0),\n",
       " ('Robert', 'Pediatric', 28000.0),\n",
       " ('Susan', 'Garnacologist', 25000.0),\n",
       " ('Michael', 'Oncologist', 20000.0)]"
      ]
     },
     "execution_count": 10,
     "metadata": {},
     "output_type": "execute_result"
    }
   ],
   "source": [
    "# Doctor names grouped by specialty and ordered by salary\n",
    "\n",
    "cursor.execute(''' SELECT DocName, Specialty, salary FROM Doctor\n",
    "GROUP BY Specialty, salary ORDER BY salary desc;''')\n",
    "\n",
    "cursor.fetchall()"
   ]
  },
  {
   "cell_type": "markdown",
   "id": "bc75f860",
   "metadata": {},
   "source": [
    "#### Exercise 4: Get a list of doctors from a given hospital\n"
   ]
  },
  {
   "cell_type": "code",
   "execution_count": 11,
   "id": "3ff34627",
   "metadata": {},
   "outputs": [
    {
     "data": {
      "text/plain": [
       "[('Linda', 'John Hopkins'), ('William', 'John Hopkins')]"
      ]
     },
     "execution_count": 11,
     "metadata": {},
     "output_type": "execute_result"
    }
   ],
   "source": [
    "# Doctors by hospital\n",
    "cursor.execute(''' SELECT DocName, Name FROM Doctor, Hospital\n",
    "WHERE Hospital.ID = Doctor.HospitalID AND Name = 'John Hopkins';''')\n",
    "\n",
    "cursor.fetchall()"
   ]
  },
  {
   "cell_type": "markdown",
   "id": "9a1a126a",
   "metadata": {},
   "source": [
    "#### Exercise 5: Update doctor experience in years"
   ]
  },
  {
   "cell_type": "code",
   "execution_count": 12,
   "id": "64edad6f",
   "metadata": {},
   "outputs": [
    {
     "name": "stdout",
     "output_type": "stream",
     "text": [
      "[]\n"
     ]
    }
   ],
   "source": [
    "# Updating experience records for each row\n",
    "update_exp = [(10, 101),(5, 102),(11, 103),(12, 104),(15, 105),(9, 106),(11, 107),(7, 108)]\n",
    "\n",
    "cursor.executemany(''' UPDATE Doctor SET Exp = ? WHERE DocID = ?;''', update_exp)\n",
    "sqliteconnect.commit()\n",
    "\n",
    "\n",
    "\n",
    "print(cursor.fetchall())"
   ]
  },
  {
   "cell_type": "code",
   "execution_count": 13,
   "id": "ffde8759",
   "metadata": {},
   "outputs": [
    {
     "data": {
      "text/plain": [
       "[(101, 'David', 1, '2005-02-10', 'Pediatric', '10', 40000.0),\n",
       " (102, 'Michael', 1, '2018-07-23', 'Oncologist', '5', 20000.0),\n",
       " (103, 'Susan', 2, '2016-05-19', 'Garnacologist', '11', 25000.0),\n",
       " (104, 'Robert', 2, '2017-12-28', 'Pediatric', '12', 28000.0),\n",
       " (105, 'Linda', 3, '2004-06-04', 'Garnacologist', '15', 42000.0),\n",
       " (106, 'William', 3, '2012-09-11', 'Dermatologist', '9', 30000.0),\n",
       " (107, 'Richard', 4, '2014-08-21', 'Garnacologist', '11', 32000.0),\n",
       " (108, 'Karen', 4, '2011-10-17', 'Radiologist', '7', 30000.0)]"
      ]
     },
     "execution_count": 13,
     "metadata": {},
     "output_type": "execute_result"
    }
   ],
   "source": [
    "cursor.execute('''SELECT * FROM Doctor;''')\n",
    "cursor.fetchall()"
   ]
  },
  {
   "cell_type": "code",
   "execution_count": 14,
   "id": "50636e7c",
   "metadata": {},
   "outputs": [],
   "source": [
    "sqliteconnect.close()"
   ]
  },
  {
   "cell_type": "code",
   "execution_count": null,
   "id": "53854c03",
   "metadata": {},
   "outputs": [],
   "source": []
  }
 ],
 "metadata": {
  "kernelspec": {
   "display_name": "Python 3 (ipykernel)",
   "language": "python",
   "name": "python3"
  },
  "language_info": {
   "codemirror_mode": {
    "name": "ipython",
    "version": 3
   },
   "file_extension": ".py",
   "mimetype": "text/x-python",
   "name": "python",
   "nbconvert_exporter": "python",
   "pygments_lexer": "ipython3",
   "version": "3.9.13"
  }
 },
 "nbformat": 4,
 "nbformat_minor": 5
}
